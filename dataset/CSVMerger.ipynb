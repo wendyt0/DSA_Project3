{
 "cells": [
  {
   "cell_type": "code",
   "execution_count": 113,
   "id": "b69a5835",
   "metadata": {},
   "outputs": [],
   "source": [
    "import pandas as pd"
   ]
  },
  {
   "cell_type": "code",
   "execution_count": 114,
   "id": "874cac59",
   "metadata": {},
   "outputs": [],
   "source": [
    "# Return a csv in using pandas framework\n",
    "def readCSV(file):\n",
    "    csv = pd.read_csv(file)\n",
    "    csv.columns = csv.columns.str.replace(\"Unnamed: 0\", \"id\")\n",
    "    csv.drop(columns = \"id\", inplace = True)\n",
    "    return csv"
   ]
  },
  {
   "cell_type": "code",
   "execution_count": 115,
   "id": "2cb46854",
   "metadata": {},
   "outputs": [],
   "source": [
    "# Merge an array of csvs together\n",
    "def mergeCSV(fileNames):\n",
    "    csv = pd.concat(fileNames, ignore_index=True)\n",
    "    return csv"
   ]
  },
  {
   "cell_type": "code",
   "execution_count": 116,
   "id": "16aef301",
   "metadata": {},
   "outputs": [],
   "source": [
    "# Get the weekdays\n",
    "def getWeekdays(city):\n",
    "    file = city + '_weekdays.csv'\n",
    "    city_weekdays = readCSV(file)\n",
    "    size = len(city_weekdays.index)\n",
    "    column = [city] * size\n",
    "    city_weekdays['city'] = column\n",
    "    column = ['weekday'] * size\n",
    "    city_weekdays['day'] = column\n",
    "    return city_weekdays"
   ]
  },
  {
   "cell_type": "code",
   "execution_count": 117,
   "id": "c0db67b8",
   "metadata": {},
   "outputs": [],
   "source": [
    "# Get the weekend csvs from the given city\n",
    "def getWeekends(city):\n",
    "    file = city + '_weekends.csv'\n",
    "    city_weekends = readCSV(file)\n",
    "    size = len(city_weekends.index)\n",
    "    column = [city] * size\n",
    "    city_weekends['city'] = column\n",
    "    column = ['weekend'] * size\n",
    "    city_weekends['day'] = column\n",
    "    return city_weekends"
   ]
  },
  {
   "cell_type": "code",
   "execution_count": 118,
   "id": "a48a7d9c",
   "metadata": {},
   "outputs": [],
   "source": [
    "weekdays = mergeCSV([getWeekdays('amsterdam'), \n",
    "                    getWeekdays('athens'),\n",
    "                    getWeekdays('barcelona'),\n",
    "                    getWeekdays('berlin'),\n",
    "                    getWeekdays('budapest'),\n",
    "                    getWeekdays('lisbon'),\n",
    "                    getWeekdays('london'),\n",
    "                    getWeekdays('paris'),\n",
    "                    getWeekdays('rome'),\n",
    "                    getWeekdays('vienna')])"
   ]
  },
  {
   "cell_type": "code",
   "execution_count": 119,
   "id": "d71e2d95",
   "metadata": {},
   "outputs": [],
   "source": [
    "weekends = mergeCSV([getWeekends('amsterdam'), \n",
    "                    getWeekends('athens'),\n",
    "                    getWeekends('barcelona'),\n",
    "                    getWeekends('berlin'),\n",
    "                    getWeekends('budapest'),\n",
    "                    getWeekends('lisbon'),\n",
    "                    getWeekends('london'),\n",
    "                    getWeekends('paris'),\n",
    "                    getWeekends('rome'),\n",
    "                    getWeekends('vienna')])"
   ]
  },
  {
   "cell_type": "code",
   "execution_count": 120,
   "id": "d079e057",
   "metadata": {},
   "outputs": [],
   "source": [
    "combined = mergeCSV([weekdays, weekends])"
   ]
  },
  {
   "cell_type": "code",
   "execution_count": 121,
   "id": "63360f7e",
   "metadata": {},
   "outputs": [],
   "source": [
    "weekdays.to_csv('weekdays.csv')\n",
    "weekends.to_csv('weekends.csv')\n",
    "combined.to_csv('combined.csv')"
   ]
  }
 ],
 "metadata": {
  "kernelspec": {
   "display_name": "Python 3 (ipykernel)",
   "language": "python",
   "name": "python3"
  },
  "language_info": {
   "codemirror_mode": {
    "name": "ipython",
    "version": 3
   },
   "file_extension": ".py",
   "mimetype": "text/x-python",
   "name": "python",
   "nbconvert_exporter": "python",
   "pygments_lexer": "ipython3",
   "version": "3.9.13"
  }
 },
 "nbformat": 4,
 "nbformat_minor": 5
}
